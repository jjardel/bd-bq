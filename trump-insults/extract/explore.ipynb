{
 "cells": [
  {
   "cell_type": "code",
   "execution_count": 1,
   "metadata": {
    "collapsed": false
   },
   "outputs": [],
   "source": [
    "from bs4 import BeautifulSoup\n",
    "from selenium import webdriver\n",
    "\n",
    "import requests\n",
    "import time\n",
    "import re\n",
    "\n",
    "import pandas as pd"
   ]
  },
  {
   "cell_type": "code",
   "execution_count": 2,
   "metadata": {
    "collapsed": false
   },
   "outputs": [],
   "source": [
    "url = 'http://www.nytimes.com/interactive/2016/01/28/upshot/donald-trump-twitter-insults.html?smid=tw-upshotnyt&smtyp=cur'\n",
    "\n",
    "r = requests.get(url)\n"
   ]
  },
  {
   "cell_type": "code",
   "execution_count": 3,
   "metadata": {
    "collapsed": false
   },
   "outputs": [],
   "source": [
    "driver = webdriver.PhantomJS(executable_path='/usr/local/bin/phantomjs-2.1.1-macosx/bin/phantomjs')  # why the F did I put it there?\n",
    "driver.get(url)\n",
    "time.sleep(3)\n",
    "\n",
    "page_source = driver.page_source\n",
    "soup = BeautifulSoup(page_source, 'html.parser')\n",
    "\n",
    "# save a local copy in case NYT takes the site down\n",
    "with open('backup.html', 'w') as fp:\n",
    "    fp.write(page_source)\n"
   ]
  },
  {
   "cell_type": "code",
   "execution_count": 4,
   "metadata": {
    "collapsed": false
   },
   "outputs": [],
   "source": [
    "entities = soup.find_all('div', class_='g-entity-item')"
   ]
  },
  {
   "cell_type": "code",
   "execution_count": 5,
   "metadata": {
    "collapsed": false
   },
   "outputs": [
    {
     "data": {
      "text/plain": [
       "<div class=\"g-entity-name\" id=\"hillary-clinton\">Hillary Clinton</div>"
      ]
     },
     "execution_count": 5,
     "metadata": {},
     "output_type": "execute_result"
    }
   ],
   "source": [
    "e = entities[1]\n",
    "e.find('div', class_='g-entity-name')"
   ]
  },
  {
   "cell_type": "code",
   "execution_count": 6,
   "metadata": {
    "collapsed": false
   },
   "outputs": [],
   "source": [
    "df = pd.DataFrame(columns=['id', 'name', 'text', 'links'])\n",
    "\n",
    "for e in entities:\n",
    "    element = e.find('div', class_='g-entity-name')\n",
    "\n",
    "    e_name = element.contents\n",
    "    e_id = element['id']\n",
    "    \n",
    "    insults = e.find('div', class_='g-insult-container').find_all('div', class_='g-insult-links-c')\n",
    "    text = [x.a.contents for x in insults]\n",
    "    links = [x.a['href'] for x in insults]\n",
    "    \n",
    "    # build a tmp data-frame\n",
    "    tmp_df = pd.DataFrame(text, columns=['text'])\n",
    "    tmp_df.loc[:, 'links'] = links\n",
    "    tmp_df.loc[:, 'id'] = e_id\n",
    "    tmp_df.loc[:, 'name'] = e_name    \n",
    "    \n",
    "    df = df.append(tmp_df, ignore_index=True)\n"
   ]
  },
  {
   "cell_type": "code",
   "execution_count": 7,
   "metadata": {
    "collapsed": false
   },
   "outputs": [
    {
     "data": {
      "text/plain": [
       "1787"
      ]
     },
     "execution_count": 7,
     "metadata": {},
     "output_type": "execute_result"
    }
   ],
   "source": [
    "len(df)"
   ]
  }
 ],
 "metadata": {
  "kernelspec": {
   "display_name": "Python [blog]",
   "language": "python",
   "name": "Python [blog]"
  },
  "language_info": {
   "codemirror_mode": {
    "name": "ipython",
    "version": 3
   },
   "file_extension": ".py",
   "mimetype": "text/x-python",
   "name": "python",
   "nbconvert_exporter": "python",
   "pygments_lexer": "ipython3",
   "version": "3.5.2"
  }
 },
 "nbformat": 4,
 "nbformat_minor": 0
}
